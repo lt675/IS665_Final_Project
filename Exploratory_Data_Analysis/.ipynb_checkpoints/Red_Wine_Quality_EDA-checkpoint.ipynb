{
 "cells": [
  {
   "cell_type": "markdown",
   "id": "e164cec1",
   "metadata": {
    "pycharm": {
     "name": "#%% md\n"
    }
   },
   "source": [
    "# Red Wine Quality - Exploratory Data Analysis"
   ]
  },
  {
   "cell_type": "markdown",
   "id": "9556a6dc",
   "metadata": {
    "pycharm": {
     "name": "#%% md\n"
    }
   },
   "source": [
    "## <font color=\"blue\">Import Data and Packages</font>"
   ]
  },
  {
   "cell_type": "code",
   "execution_count": null,
   "id": "77e9310f",
   "metadata": {
    "pycharm": {
     "name": "#%%\n"
    }
   },
   "outputs": [],
   "source": [
    "# Import packages\n",
    "import os\n",
    "import pandas as pd\n",
    "import matplotlib.pyplot as plt\n",
    "import seaborn as sns\n",
    "%matplotlib inline"
   ]
  },
  {
   "cell_type": "code",
   "execution_count": null,
   "id": "7cc5edc1",
   "metadata": {
    "pycharm": {
     "name": "#%%\n"
    }
   },
   "outputs": [],
   "source": [
    "# Read csv files\n",
    "df = pd.read_csv('winequality-red.csv')"
   ]
  },
  {
   "cell_type": "markdown",
   "id": "72236517",
   "metadata": {
    "pycharm": {
     "name": "#%% md\n"
    }
   },
   "source": [
    "## <font color='blue'>Check type and missing values</font>"
   ]
  },
  {
   "cell_type": "code",
   "execution_count": null,
   "id": "1d6ece5c",
   "metadata": {
    "pycharm": {
     "name": "#%%\n"
    }
   },
   "outputs": [],
   "source": [
    "# Gets information on dataframe\n",
    "# There are 1599 records with 12 attributes.\n",
    "# Quality is an integer, and all others are floats\n",
    "df.info()"
   ]
  },
  {
   "cell_type": "code",
   "execution_count": null,
   "id": "1eafa990",
   "metadata": {
    "pycharm": {
     "name": "#%%\n"
    }
   },
   "outputs": [],
   "source": [
    "# Check for missing values\n",
    "# There are none\n",
    "df.isnull() .sum()"
   ]
  },
  {
   "cell_type": "markdown",
   "id": "eee1790b",
   "metadata": {
    "pycharm": {
     "name": "#%% md\n"
    }
   },
   "source": [
    "## <font color='blue'>Summary Statistics and Distributions</font>"
   ]
  },
  {
   "cell_type": "code",
   "execution_count": null,
   "id": "2eed92df",
   "metadata": {
    "pycharm": {
     "name": "#%%\n"
    }
   },
   "outputs": [],
   "source": [
    "#Generate summary statistics using describe function\n",
    "df_stat = df.describe().drop([\"count\"]).round(3)\n",
    "df_stat"
   ]
  },
  {
   "cell_type": "code",
   "execution_count": null,
   "id": "25dfe0d6",
   "metadata": {
    "pycharm": {
     "name": "#%%\n"
    }
   },
   "outputs": [],
   "source": [
    "# Generate .csv file to add to report\n",
    "df_stat.to_csv('Red_Summary_Stats.csv')"
   ]
  },
  {
   "cell_type": "code",
   "execution_count": null,
   "id": "23fb82d0",
   "metadata": {
    "pycharm": {
     "name": "#%%\n"
    },
    "scrolled": true
   },
   "outputs": [],
   "source": [
    "# Generate histograms to observe distributions\n",
    "fig, axes = plt.subplots(nrows = 4, ncols = 3)    # axes is 2d array (3x3)\n",
    "axes = axes.flatten()         # Convert axes to 1d array of length 9\n",
    "fig.set_size_inches(15, 15)\n",
    "\n",
    "for ax, col in zip(axes, df.columns):\n",
    "  sns.histplot(df[col], ax = ax)\n",
    "\n",
    "# Save figure to add to report\n",
    "plt.savefig('Variable_Distributions.jpeg')"
   ]
  },
  {
   "cell_type": "markdown",
   "id": "d9e8bbca",
   "metadata": {
    "pycharm": {
     "name": "#%% md\n"
    }
   },
   "source": [
    "## <font color='blue'>Determine Correlation</font>"
   ]
  },
  {
   "cell_type": "code",
   "execution_count": null,
   "id": "99aac39a",
   "metadata": {
    "pycharm": {
     "name": "#%%\n"
    },
    "scrolled": false
   },
   "outputs": [],
   "source": [
    "# Create pair plots and save figures to add to report\n",
    "p1 = sns.pairplot(df, hue='quality', palette='colorblind',\n",
    "             x_vars=('fixed acidity', 'volatile acidity', 'citric acid'),\n",
    "             y_vars='quality')\n",
    "plt.savefig('Pair_Plot1')"
   ]
  },
  {
   "cell_type": "code",
   "execution_count": null,
   "id": "1d457a0a",
   "metadata": {
    "pycharm": {
     "name": "#%%\n"
    }
   },
   "outputs": [],
   "source": [
    "p2 = sns.pairplot(df, hue='quality', palette='colorblind',\n",
    "             x_vars=('residual sugar', 'chlorides', 'free sulfur dioxide'),\n",
    "             y_vars='quality')\n",
    "plt.savefig('Pair_Plot2')"
   ]
  },
  {
   "cell_type": "code",
   "execution_count": null,
   "id": "960d1a42",
   "metadata": {
    "pycharm": {
     "name": "#%%\n"
    }
   },
   "outputs": [],
   "source": [
    "p3 = sns.pairplot(df, hue='quality', palette='colorblind',\n",
    "             x_vars=('total sulfur dioxide', 'density', 'pH'),\n",
    "             y_vars='quality')\n",
    "plt.savefig('Pair_Plot3')"
   ]
  },
  {
   "cell_type": "code",
   "execution_count": null,
   "id": "94c6db97",
   "metadata": {
    "pycharm": {
     "name": "#%%\n"
    }
   },
   "outputs": [],
   "source": [
    "p4 = sns.pairplot(df, hue='quality', palette='colorblind',\n",
    "             x_vars=('sulphates', 'alcohol', 'quality'),\n",
    "             y_vars='quality')\n",
    "plt.savefig('Pair_Plot4')"
   ]
  },
  {
   "cell_type": "code",
   "execution_count": null,
   "id": "b3970014",
   "metadata": {
    "pycharm": {
     "name": "#%%\n"
    }
   },
   "outputs": [],
   "source": [
    "# Create correlation table and save as .csv\n",
    "corr = df.corrwith(df['quality']).round(2)\n",
    "print(corr)\n",
    "corr.to_csv('Quality_Correlation.csv')"
   ]
  },
  {
   "cell_type": "code",
   "execution_count": null,
   "id": "dab279b1",
   "metadata": {
    "pycharm": {
     "name": "#%%\n"
    }
   },
   "outputs": [],
   "source": []
  }
 ],
 "metadata": {
  "kernelspec": {
   "display_name": "Python 3 (ipykernel)",
   "language": "python",
   "name": "python3"
  },
  "language_info": {
   "codemirror_mode": {
    "name": "ipython",
    "version": 3
   },
   "file_extension": ".py",
   "mimetype": "text/x-python",
   "name": "python",
   "nbconvert_exporter": "python",
   "pygments_lexer": "ipython3",
   "version": "3.11.5"
  }
 },
 "nbformat": 4,
 "nbformat_minor": 5
}
